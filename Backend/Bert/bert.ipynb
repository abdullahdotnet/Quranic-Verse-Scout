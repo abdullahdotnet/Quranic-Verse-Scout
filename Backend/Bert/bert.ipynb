{
 "cells": [
  {
   "cell_type": "code",
   "execution_count": 7,
   "metadata": {},
   "outputs": [],
   "source": [
    "model_name = 'all-mpnet-base-v2'"
   ]
  },
  {
   "cell_type": "markdown",
   "metadata": {},
   "source": [
    "## Importing model"
   ]
  },
  {
   "cell_type": "code",
   "execution_count": 1,
   "metadata": {},
   "outputs": [
    {
     "name": "stderr",
     "output_type": "stream",
     "text": [
      "f:\\University\\5th Semester\\Machine Learning\\QuranProject\\QuranEnv\\Lib\\site-packages\\tqdm\\auto.py:21: TqdmWarning: IProgress not found. Please update jupyter and ipywidgets. See https://ipywidgets.readthedocs.io/en/stable/user_install.html\n",
      "  from .autonotebook import tqdm as notebook_tqdm\n"
     ]
    }
   ],
   "source": [
    "from sentence_transformers import SentenceTransformer"
   ]
  },
  {
   "cell_type": "code",
   "execution_count": 8,
   "metadata": {},
   "outputs": [
    {
     "name": "stderr",
     "output_type": "stream",
     "text": [
      "f:\\University\\5th Semester\\Machine Learning\\QuranProject\\QuranEnv\\Lib\\site-packages\\huggingface_hub\\file_download.py:1132: FutureWarning: `resume_download` is deprecated and will be removed in version 1.0.0. Downloads always resume when possible. If you want to force a new download, use `force_download=True`.\n",
      "  warnings.warn(\n"
     ]
    }
   ],
   "source": [
    "model = SentenceTransformer(model_name)"
   ]
  },
  {
   "cell_type": "markdown",
   "metadata": {},
   "source": [
    "## Loading and Cleaning Ayahs"
   ]
  },
  {
   "cell_type": "code",
   "execution_count": 4,
   "metadata": {},
   "outputs": [],
   "source": [
    "import pickle\n",
    "# load ayahs from pickle file\n",
    "with open(\"ayahs.pkl\", \"rb\") as f:\n",
    "    ayahs = pickle.load(f)"
   ]
  },
  {
   "cell_type": "code",
   "execution_count": 5,
   "metadata": {},
   "outputs": [
    {
     "data": {
      "text/plain": [
       "'in the name of allah most benevolent ever merciful'"
      ]
     },
     "execution_count": 5,
     "metadata": {},
     "output_type": "execute_result"
    }
   ],
   "source": [
    "import re\n",
    "import numpy as np\n",
    "import string\n",
    "\n",
    "def clean_text(text):\n",
    "    text = text.lower()\n",
    "    # also remove semicolon and colon\n",
    "    text = re.sub(r'-', ' ', text)\n",
    "    text = re.sub(r'[^\\w\\s]', '', text)\n",
    "    return text\n",
    "\n",
    "# apply the function to all the strings inside numpy array\n",
    "vfunc = np.vectorize(clean_text)\n",
    "cleaned_ayahs = vfunc(ayahs)\n",
    "cleaned_ayahs[0]"
   ]
  },
  {
   "cell_type": "markdown",
   "metadata": {},
   "source": [
    "## Creating Embeddings"
   ]
  },
  {
   "cell_type": "code",
   "execution_count": 12,
   "metadata": {},
   "outputs": [],
   "source": [
    "# If embeddings not present than generate embeddings otherwise load them\n",
    "import os\n",
    "if os.path.isfile(f'./Embeddings/{model_name}.pkl'):\n",
    "    embeddings = pickle.load(open(f'./Embeddings/{model_name}.pkl', 'rb'))\n",
    "else:\n",
    "    embeddings = model.encode(cleaned_ayahs)\n",
    "    pickle.dump(embeddings, open(f'./Embeddings/{model_name}.pkl', 'wb'))"
   ]
  },
  {
   "cell_type": "markdown",
   "metadata": {},
   "source": [
    "## Creating Indexes"
   ]
  },
  {
   "cell_type": "code",
   "execution_count": 13,
   "metadata": {},
   "outputs": [],
   "source": [
    "import faiss"
   ]
  },
  {
   "cell_type": "code",
   "execution_count": 18,
   "metadata": {},
   "outputs": [
    {
     "data": {
      "text/plain": [
       "6236"
      ]
     },
     "execution_count": 18,
     "metadata": {},
     "output_type": "execute_result"
    }
   ],
   "source": [
    "embedding_dim = embeddings.shape[1]\n",
    "# print(embedding_dim)\n",
    "index = faiss.IndexFlatL2(embedding_dim)\n",
    "index.add(embeddings)\n",
    "index.ntotal"
   ]
  },
  {
   "cell_type": "markdown",
   "metadata": {},
   "source": [
    "## Implementing Search"
   ]
  },
  {
   "cell_type": "code",
   "execution_count": 19,
   "metadata": {},
   "outputs": [],
   "source": [
    "def search(query, model, index, ayahs, k=10):\n",
    "    # Convert the query to an embedding\n",
    "    query_embedding = model.encode([query])\n",
    "\n",
    "    # Search the index for the top k most similar embeddings\n",
    "    distances, indices = index.search(query_embedding, k)\n",
    "\n",
    "    # Retrieve the corresponding verses and their indices\n",
    "    similar_verses = [(ayahs[idx], idx) for idx in indices[0]]\n",
    "    distances_similar_verses = [(dist, ayahs[idx], idx) for dist, idx in zip(distances[0], indices[0])]\n",
    "    return similar_verses, distances_similar_verses"
   ]
  },
  {
   "cell_type": "markdown",
   "metadata": {},
   "source": [
    "## Example Searches"
   ]
  },
  {
   "cell_type": "code",
   "execution_count": 29,
   "metadata": {},
   "outputs": [
    {
     "name": "stdout",
     "output_type": "stream",
     "text": [
      "Result 1:\n",
      "Ayah: Fast a (fixed) number of days, but if someone is ill or is travelling (he should complete) the number of days (he had missed); and those who find it hard to fast should expiate by feeding a poor person. For the good they do with a little hardship is better for men. And if you fast it is good for you, if you knew.\n",
      "Index: 190\n",
      "Distance: 0.2231331318616867\n",
      "\n",
      "Result 2:\n",
      "Ayah: O believers, fasting is enjoined on you as it was on those before you, so that you might become righteous.\n",
      "Index: 189\n",
      "Distance: 0.7952790856361389\n",
      "\n",
      "Result 3:\n",
      "Ayah: Ramadan is the month in which the Qur'an was revealed as guidance to man and clear proof of the guidance, and criterion (of falsehood and truth). So when you see the new moon you should fast the whole month; but a person who is ill or travelling (and fails to do so) should fast on other days, as God wishes ease and not hardship for you, so that you complete the (fixed) number (of fasts), and give glory to God for the guidance, and be grateful.\n",
      "Index: 191\n",
      "Distance: 0.8705332279205322\n",
      "\n",
      "Result 4:\n",
      "Ayah: If one does not have the means (of doing so) then he should fast for two months continuously before he has physical contact; but any one who is unable to do so, should feed sixty needy persons. This (is enjoined) so that you may be faithful to God and His Apostle. These are the limits set by God. As for the unbelievers, there is painful punishment for them.\n",
      "Index: 5107\n",
      "Distance: 1.0069202184677124\n",
      "\n",
      "Result 5:\n",
      "Ayah: You are allowed to sleep with your wives on the nights of the fast: They are your dress as you are theirs. God is aware you were cheating yourselves, so He turned to you and pardoned you. So now you may have intercourse with them, and seek what God has ordained for you. Eat and drink until the white thread of dawn appears clear from the dark line, then fast until the night falls; and abstain from your wives (when you have decided) to stay in the mosques for assiduous devotion. These are the bounds fixed by God, so keep well within them. So does God make His signs clear to men that they may take heed for themselves.\n",
      "Index: 193\n",
      "Distance: 1.0658798217773438\n",
      "\n",
      "Result 6:\n",
      "Ayah: Say: \"Determined is the day of the promise, which you can neither put back nor advance an hour.''\n",
      "Index: 3635\n",
      "Distance: 1.0733457803726196\n",
      "\n",
      "Result 7:\n",
      "Ayah: Remember God during the stated days; but if a person comes away after two days, it will not be a sin; and if one tarries, he will not transgress, if he keep away from evil. Follow the law of God, and remember that you will have to gather before Him in the end.\n",
      "Index: 209\n",
      "Distance: 1.1053822040557861\n",
      "\n",
      "Result 8:\n",
      "Ayah: Stand up for the service of prayer at the two ends of day and the first watch of night. Remember that good deeds nullify the bad. This is a reminder for those who are observant.\n",
      "Index: 1586\n",
      "Distance: 1.1326347589492798\n",
      "\n",
      "Result 9:\n",
      "Ayah: Eat what is lawful and good of the provisions God has bestowed on you, and fear God in whom you believe.\n",
      "Index: 756\n",
      "Distance: 1.134751558303833\n",
      "\n",
      "Result 10:\n",
      "Ayah: Neither nourishing nor banishing hunger.\n",
      "Index: 5973\n",
      "Distance: 1.136598825454712\n",
      "\n",
      "Result 11:\n",
      "Ayah: And does not induce others to feed the needy.\n",
      "Index: 6199\n",
      "Distance: 1.140315055847168\n",
      "\n",
      "Result 12:\n",
      "Ayah: Eat and drink, and be at peace. If you see any man, tell him: 'I have verily vowed a fast to Ar-Rahman and cannot speak to any one this day.'\n",
      "Index: 2275\n",
      "Distance: 1.1407837867736816\n",
      "\n",
      "Result 13:\n",
      "Ayah: Eat the good and lawful of things that God has given you, and be grateful for the bounty of God, if you really worship Him.\n",
      "Index: 2014\n",
      "Distance: 1.1419011354446411\n",
      "\n",
      "Result 14:\n",
      "Ayah: Let man therefore consider (the sources of) his food.\n",
      "Index: 5781\n",
      "Distance: 1.1762950420379639\n",
      "\n",
      "Result 15:\n",
      "Ayah: O believers, eat what is good of the food We have given you, and be grateful to God, if indeed you are obedient to Him.\n",
      "Index: 178\n",
      "Distance: 1.1862819194793701\n",
      "\n",
      "Result 16:\n",
      "Ayah: And remember, We said to you: \"Enter this city, eat wherever you like, as much as you please, but pass through the gates in humility and say: 'May our sins be forgiven.' We shall forgive your trespasses and give those who do good abundance.\n",
      "Index: 64\n",
      "Distance: 1.188582181930542\n",
      "\n",
      "Result 17:\n",
      "Ayah: Known are the months of pilgrimage. If one resolves to perform the pilgrimage in these months, let him not indulge in concupiscence, sin or quarrel. And the good you do shall be known to God. Provide for the journey, and the best of provisions is piety. O men of understanding, obey Me.\n",
      "Index: 203\n",
      "Distance: 1.190441370010376\n",
      "\n",
      "Result 18:\n",
      "Ayah: (Saying): \"We feed you for the sake of God, desiring neither recompense nor thanks.\n",
      "Index: 5599\n",
      "Distance: 1.197269082069397\n",
      "\n",
      "Result 19:\n",
      "Ayah: There is no harm if the blind, the lame, the sick, or you yourselves, eat in your own houses or the houses of your fathers, mothers, or your brothers' houses, or those of your sisters, or your fathers' brothers' or sisters', or your mothers' brothers' or sisters', or in the houses whose care is entrusted to you, or the houses of your friends.\n",
      "Index: 2851\n",
      "Distance: 1.19954514503479\n",
      "\n",
      "Result 20:\n",
      "Ayah: A term is fixed for every people; and when their appointed time is come there will neither be a moment's delay nor haste.\n",
      "Index: 987\n",
      "Distance: 1.2032240629196167\n",
      "\n"
     ]
    }
   ],
   "source": [
    "query1 = \"give me ayahs related to importance of salah\"\n",
    "query2 = \"god has purchased the lives of believers for jannah\"\n",
    "query3 = \"send peace on prophet and you will get\"\n",
    "query4 = \"description of jannah in quran\"\n",
    "query5 = \"can you tell me the verse related to giving zakat to which people is obligatory\"\n",
    "query6 = \"fasting is compulsory for muslims\"\n",
    "query7 = \"Fast a (fixed) number of days, but if someone is ill or is travelling (he should complete) the number of days (he had missed); and those who find it hard to fast should expiate by feeding a poor person. For the good they do with a little hardship is better for men. And if you fast it is good for you, if you knew.\"\n",
    "\n",
    "results, distances = search(query=query6,model=model,index=index,ayahs=ayahs,k=20)\n",
    "# Show ayahs, their indexes and their distances\n",
    "for i, (ayah, idx) in enumerate(results):\n",
    "    print(f\"Result {i+1}:\\nAyah: {ayah}\\nIndex: {idx}\\nDistance: {distances[i][0]}\\n\")"
   ]
  },
  {
   "cell_type": "code",
   "execution_count": null,
   "metadata": {},
   "outputs": [],
   "source": []
  }
 ],
 "metadata": {
  "kernelspec": {
   "display_name": "QuranEnv",
   "language": "python",
   "name": "python3"
  },
  "language_info": {
   "codemirror_mode": {
    "name": "ipython",
    "version": 3
   },
   "file_extension": ".py",
   "mimetype": "text/x-python",
   "name": "python",
   "nbconvert_exporter": "python",
   "pygments_lexer": "ipython3",
   "version": "3.12.2"
  }
 },
 "nbformat": 4,
 "nbformat_minor": 2
}
