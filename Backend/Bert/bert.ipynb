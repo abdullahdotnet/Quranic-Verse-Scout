{
 "cells": [
  {
   "cell_type": "code",
   "execution_count": 1,
   "metadata": {},
   "outputs": [],
   "source": [
    "model_name = 'all-mpnet-base-v2'"
   ]
  },
  {
   "cell_type": "markdown",
   "metadata": {},
   "source": [
    "## Importing model"
   ]
  },
  {
   "cell_type": "code",
   "execution_count": 2,
   "metadata": {},
   "outputs": [
    {
     "name": "stderr",
     "output_type": "stream",
     "text": [
      "f:\\University\\5th Semester\\Machine Learning\\QuranProject\\QuranEnv\\Lib\\site-packages\\tqdm\\auto.py:21: TqdmWarning: IProgress not found. Please update jupyter and ipywidgets. See https://ipywidgets.readthedocs.io/en/stable/user_install.html\n",
      "  from .autonotebook import tqdm as notebook_tqdm\n"
     ]
    }
   ],
   "source": [
    "from sentence_transformers import SentenceTransformer"
   ]
  },
  {
   "cell_type": "code",
   "execution_count": 3,
   "metadata": {},
   "outputs": [
    {
     "name": "stderr",
     "output_type": "stream",
     "text": [
      "f:\\University\\5th Semester\\Machine Learning\\QuranProject\\QuranEnv\\Lib\\site-packages\\huggingface_hub\\file_download.py:1132: FutureWarning: `resume_download` is deprecated and will be removed in version 1.0.0. Downloads always resume when possible. If you want to force a new download, use `force_download=True`.\n",
      "  warnings.warn(\n",
      "f:\\University\\5th Semester\\Machine Learning\\QuranProject\\QuranEnv\\Lib\\site-packages\\huggingface_hub\\file_download.py:1132: FutureWarning: `resume_download` is deprecated and will be removed in version 1.0.0. Downloads always resume when possible. If you want to force a new download, use `force_download=True`.\n",
      "  warnings.warn(\n"
     ]
    }
   ],
   "source": [
    "model = SentenceTransformer(model_name)"
   ]
  },
  {
   "cell_type": "markdown",
   "metadata": {},
   "source": [
    "## Loading and Cleaning Ayahs"
   ]
  },
  {
   "cell_type": "code",
   "execution_count": 4,
   "metadata": {},
   "outputs": [],
   "source": [
    "import pickle\n",
    "# load ayahs from pickle file\n",
    "with open(\"ayahs.pkl\", \"rb\") as f:\n",
    "    ayahs = pickle.load(f)"
   ]
  },
  {
   "cell_type": "code",
   "execution_count": 5,
   "metadata": {},
   "outputs": [
    {
     "data": {
      "text/plain": [
       "'in the name of allah most benevolent ever merciful'"
      ]
     },
     "execution_count": 5,
     "metadata": {},
     "output_type": "execute_result"
    }
   ],
   "source": [
    "import re\n",
    "import numpy as np\n",
    "import string\n",
    "\n",
    "def clean_text(text):\n",
    "    text = text.lower()\n",
    "    # also remove semicolon and colon\n",
    "    text = re.sub(r'-', ' ', text)\n",
    "    text = re.sub(r'[^\\w\\s]', '', text)\n",
    "    return text\n",
    "\n",
    "# apply the function to all the strings inside numpy array\n",
    "vfunc = np.vectorize(clean_text)\n",
    "cleaned_ayahs = vfunc(ayahs)\n",
    "cleaned_ayahs[0]"
   ]
  },
  {
   "cell_type": "markdown",
   "metadata": {},
   "source": [
    "## Creating Embeddings"
   ]
  },
  {
   "cell_type": "code",
   "execution_count": 6,
   "metadata": {},
   "outputs": [],
   "source": [
    "# If embeddings not present than generate embeddings otherwise load them\n",
    "import os\n",
    "if os.path.isfile(f'./Embeddings/{model_name}.pkl'):\n",
    "    embeddings = pickle.load(open(f'./Embeddings/{model_name}.pkl', 'rb'))\n",
    "else:\n",
    "    embeddings = model.encode(cleaned_ayahs)\n",
    "    pickle.dump(embeddings, open(f'./Embeddings/{model_name}.pkl', 'wb'))"
   ]
  },
  {
   "cell_type": "markdown",
   "metadata": {},
   "source": [
    "## Creating Indexes"
   ]
  },
  {
   "cell_type": "code",
   "execution_count": 7,
   "metadata": {},
   "outputs": [],
   "source": [
    "import faiss"
   ]
  },
  {
   "cell_type": "code",
   "execution_count": 8,
   "metadata": {},
   "outputs": [
    {
     "data": {
      "text/plain": [
       "6236"
      ]
     },
     "execution_count": 8,
     "metadata": {},
     "output_type": "execute_result"
    }
   ],
   "source": [
    "embedding_dim = embeddings.shape[1]\n",
    "# print(embedding_dim)\n",
    "index = faiss.IndexFlatL2(embedding_dim)\n",
    "index.add(embeddings)\n",
    "index.ntotal"
   ]
  },
  {
   "cell_type": "markdown",
   "metadata": {},
   "source": [
    "## Query Optimizing"
   ]
  },
  {
   "cell_type": "code",
   "execution_count": 9,
   "metadata": {},
   "outputs": [
    {
     "name": "stderr",
     "output_type": "stream",
     "text": [
      "[nltk_data] Downloading package wordnet to\n",
      "[nltk_data]     C:\\Users\\Zubair\\AppData\\Roaming\\nltk_data...\n",
      "[nltk_data]   Package wordnet is already up-to-date!\n"
     ]
    }
   ],
   "source": [
    "import nltk\n",
    "nltk.download('wordnet')\n",
    "from nltk.corpus import wordnet\n",
    "from itertools import chain"
   ]
  },
  {
   "cell_type": "code",
   "execution_count": 10,
   "metadata": {},
   "outputs": [],
   "source": [
    "from nltk.stem import PorterStemmer\n",
    "\n",
    "def stem_query(query):\n",
    "    stemmer = PorterStemmer()\n",
    "    words = query.split()\n",
    "    stemmed_words = [stemmer.stem(word) for word in words]\n",
    "    return ' '.join(stemmed_words)"
   ]
  },
  {
   "cell_type": "code",
   "execution_count": 11,
   "metadata": {},
   "outputs": [],
   "source": [
    "def expand_query(query):\n",
    "    words = query.split()\n",
    "    expanded_words = []\n",
    "    for word in words:\n",
    "        synonyms = wordnet.synsets(word)\n",
    "        lemmas = set(chain.from_iterable([syn.lemma_names() for syn in synonyms[:1]]))\n",
    "        lemmas.add(word)\n",
    "        # Keep only one synonym, replace underscore with space, and add parentheses\n",
    "        lemmas = ['(' + lemma.replace('_', ' ') + ')' for lemma in list(lemmas)[:1]]\n",
    "        lemmas.append(word)\n",
    "        expanded_words.append(' '.join(lemmas))\n",
    "    expanded_query = ' '.join(expanded_words)\n",
    "    return expanded_query"
   ]
  },
  {
   "cell_type": "markdown",
   "metadata": {},
   "source": [
    "## Implementing Search"
   ]
  },
  {
   "cell_type": "code",
   "execution_count": 12,
   "metadata": {},
   "outputs": [],
   "source": [
    "def search(query, model, index, ayahs, k=10):\n",
    "    # Convert the query to an embedding\n",
    "    query_embedding = model.encode([query])\n",
    "\n",
    "    # Search the index for the top k most similar embeddings\n",
    "    distances, indices = index.search(query_embedding, k)\n",
    "\n",
    "    # Retrieve the corresponding verses and their indices\n",
    "    similar_verses = [(ayahs[idx], idx) for idx in indices[0]]\n",
    "    distances_similar_verses = [(dist, ayahs[idx], idx) for dist, idx in zip(distances[0], indices[0])]\n",
    "    return similar_verses, distances_similar_verses"
   ]
  },
  {
   "cell_type": "markdown",
   "metadata": {},
   "source": [
    "## Example Searches"
   ]
  },
  {
   "cell_type": "code",
   "execution_count": 14,
   "metadata": {},
   "outputs": [
    {
     "name": "stdout",
     "output_type": "stream",
     "text": [
      "Result 1:\n",
      "Ayah: God has verily bought the souls and possessions of the faithful in exchange for a promise of Paradise. They fight in the cause of God, and kill and are killed. This is a promise incumbent on Him, as in the Torah, so the Gospel and the Qur'an. And who is more true to his promise than God? So rejoice at the bargain you have made with Him; for this will be triumph supreme.\n",
      "Index: 1345\n",
      "Distance: 0.8081139326095581\n",
      "\n",
      "Result 2:\n",
      "Ayah: Those who accepted the faith and left their homes and fought in the way of God, wealth and soul, have a greater reward with God, and will be successful.\n",
      "Index: 1254\n",
      "Distance: 0.9154306650161743\n",
      "\n",
      "Result 3:\n",
      "Ayah: Those among the migrants (from Makkah) and helpers (in Madina) who were the first to believe, and those who followed them in goodness, have been accepted by God and they follow His way. For them He has gardens with streams of running water where they will abide for ever; and that is happiness supreme.\n",
      "Index: 1334\n",
      "Distance: 0.9391339421272278\n",
      "\n",
      "Result 4:\n",
      "Ayah: And there is a man who is willing to sell even his soul to win the favour of God; and God is compassionate to His creatures.\n",
      "Index: 213\n",
      "Distance: 0.9475741982460022\n",
      "\n",
      "Result 5:\n",
      "Ayah: Those who trade on the promises of God, and who purchase a little gain from their oaths, will have no share in the life to come. God will not address or even regard them on the Day of Resurrection, nor perfect them, and their suffering will be painful.\n",
      "Index: 369\n",
      "Distance: 0.9523836374282837\n",
      "\n",
      "Result 6:\n",
      "Ayah: Those who barter the life of this world for the next should fight in the way of God. And We shall bestow on him who fights in the way of God, whether he is killed or is victorious, a glorious reward.\n",
      "Index: 566\n",
      "Distance: 0.9615872502326965\n",
      "\n",
      "Result 7:\n",
      "Ayah: By men not distracted from the remembrance of God either by trade and commerce or buying and selling, who stand by their devotional obligations and pay the zakat, who fear the day when hearts and eyes would flutter with trepidation\n",
      "Index: 2827\n",
      "Distance: 0.9622277021408081\n",
      "\n",
      "Result 8:\n",
      "Ayah: There is not a sum, large or small, that they spend, not a piece of land that they traverse (in the service of God) which is not put down in their favour, so that God could reward them for what they had done.\n",
      "Index: 1355\n",
      "Distance: 0.9725648164749146\n",
      "\n",
      "Result 9:\n",
      "Ayah: But the semblance of those who expend their wealth to please God with firm and resolute hearts, is like a garden on a height on which the rain falls and it yields its fruits twice as much; and even if the rain does not fall the dew will suffice. For God sees all that you do.\n",
      "Index: 271\n",
      "Distance: 0.9752724766731262\n",
      "\n",
      "Result 10:\n",
      "Ayah: But those who believe and do good deeds are people of Paradise, and shall live there forever.\n",
      "Index: 88\n",
      "Distance: 0.9896992444992065\n",
      "\n",
      "Result 11:\n",
      "Ayah: Have you never thought of men who went out of their homes as a measure of safety against death, and they were thousands, to whom God said: \"Die,\" then restored them to life? Indeed God bestows His blessings on men; only most men are not grateful.\n",
      "Index: 249\n",
      "Distance: 0.9904265999794006\n",
      "\n",
      "Result 12:\n",
      "Ayah: But the Prophet and those who have embraced the faith with him, and have fought wealth and soul (in the way of God), are blessed and will be successful.\n",
      "Index: 1322\n",
      "Distance: 0.9948148131370544\n",
      "\n",
      "Result 13:\n",
      "Ayah: God increases or decreases the fortunes of whosoever He will, and they rejoice in the life of this world. Yet the life of this world is nothing but a merchandise as compared to the life of the next.\n",
      "Index: 1732\n",
      "Distance: 0.9956585168838501\n",
      "\n",
      "Result 14:\n",
      "Ayah: Every soul is pledged to what it does,\n",
      "Index: 5532\n",
      "Distance: 0.9983105063438416\n",
      "\n",
      "Result 15:\n",
      "Ayah: Whatsoever you have been given is only this life's merchandise; but what is with God is better and more lasting for those who believe and place their trust in their Lord,\n",
      "Index: 4307\n",
      "Distance: 1.0042072534561157\n",
      "\n",
      "Result 16:\n",
      "Ayah: But surely those who believe and do the right will have gardens of Paradise as gift,\n",
      "Index: 2246\n",
      "Distance: 1.009448766708374\n",
      "\n",
      "Result 17:\n",
      "Ayah: So, those who believed and did good things will be admitted to His favour by their Lord. This will be a clear triumph.\n",
      "Index: 4502\n",
      "Distance: 1.0118407011032104\n",
      "\n",
      "Result 18:\n",
      "Ayah: God takes away (gain) from usury, but adds (profit) to charity; and God does not love the ungrateful and sinners.\n",
      "Index: 282\n",
      "Distance: 1.0121490955352783\n",
      "\n",
      "Result 19:\n",
      "Ayah: Those who spend in the way of God, and having spent do not boast or give pain (by word or deed), will get their reward from their Lord, and will neither have fear nor regret.\n",
      "Index: 268\n",
      "Distance: 1.0185359716415405\n",
      "\n",
      "Result 20:\n",
      "Ayah: But he who performs good deeds, whether man or a woman, and is a believer, will surely enter Paradise, and none shall be deprived even of an iota of his reward.\n",
      "Index: 616\n",
      "Distance: 1.024177074432373\n",
      "\n"
     ]
    }
   ],
   "source": [
    "query1 = \"give me ayahs related to importance of salah\"\n",
    "query2 = \"god has purchased the lives of believers for jannah\"\n",
    "query3 = \"send peace on prophet and you will get\"\n",
    "query4 = \"description of jannah in quran\"\n",
    "query5 = \"can you tell me the verse related to giving zakat to which people is obligatory\"\n",
    "query6 = \"fasting is compulsory for muslims\"\n",
    "query7 = \"Fast a (fixed) number of days, but if someone is ill or is travelling (he should complete) the number of days (he had missed); and those who find it hard to fast should expiate by feeding a poor person. For the good they do with a little hardship is better for men. And if you fast it is good for you, if you knew.\"\n",
    "query8 = \"give zakat to which people is obligatory\"\n",
    "# exp_query = expand_query(query2)\n",
    "# st_query = stem_query(query2)\n",
    "# print(\"Query: \", query2)\n",
    "# print(\"Expanded Query: \",st_query)\n",
    "results, distances = search(query=query2,model=model,index=index,ayahs=ayahs,k=20)\n",
    "# Show ayahs, their indexes and their distances\n",
    "for i, (ayah, idx) in enumerate(results):\n",
    "    print(f\"Result {i+1}:\\nAyah: {ayah}\\nIndex: {idx}\\nDistance: {distances[i][0]}\\n\")"
   ]
  },
  {
   "cell_type": "code",
   "execution_count": null,
   "metadata": {},
   "outputs": [],
   "source": []
  }
 ],
 "metadata": {
  "kernelspec": {
   "display_name": "QuranEnv",
   "language": "python",
   "name": "python3"
  },
  "language_info": {
   "codemirror_mode": {
    "name": "ipython",
    "version": 3
   },
   "file_extension": ".py",
   "mimetype": "text/x-python",
   "name": "python",
   "nbconvert_exporter": "python",
   "pygments_lexer": "ipython3",
   "version": "3.12.2"
  }
 },
 "nbformat": 4,
 "nbformat_minor": 2
}
